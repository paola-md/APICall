{
  "nbformat": 4,
  "nbformat_minor": 0,
  "metadata": {
    "kernelspec": {
      "display_name": "Python 3",
      "language": "python",
      "name": "python3"
    },
    "language_info": {
      "codemirror_mode": {
        "name": "ipython",
        "version": 3
      },
      "file_extension": ".py",
      "mimetype": "text/x-python",
      "name": "python",
      "nbconvert_exporter": "python",
      "pygments_lexer": "ipython3",
      "version": "3.6.5"
    },
    "colab": {
      "name": "Homework01.ipynb",
      "provenance": [],
      "collapsed_sections": [],
      "toc_visible": true,
      "include_colab_link": true
    }
  },
  "cells": [
    {
      "cell_type": "markdown",
      "metadata": {
        "id": "view-in-github",
        "colab_type": "text"
      },
      "source": [
        "<a href=\"https://colab.research.google.com/github/paola-md/APICall/blob/master/Homework01.ipynb\" target=\"_parent\"><img src=\"https://colab.research.google.com/assets/colab-badge.svg\" alt=\"Open In Colab\"/></a>"
      ]
    },
    {
      "cell_type": "markdown",
      "metadata": {
        "id": "06qRY9zr-k1g"
      },
      "source": [
        "# **Homework 1: Data Handling**\n",
        "---\n",
        "\n",
        "## Introduction\n",
        "\n",
        "In this homework, you will apply different data exploration, cleaning and visualization techniques. It is very import to take some time to understand the data. \n",
        "\n",
        "There homework is due **Mar 09, 2021 23:59 CET**. The fully-run notebook must be uploaded to your private GitHub private repository. We will only grade the cells with the following heading: \n",
        "```\n",
        "#### GRADED CELL ####\n",
        "```\n",
        "There are 6 required exercises that will be graded and 1 optional exercise that will not be graded.\n",
        "\n",
        "If you have any questions, feel free to use the Q&A forum in Moodle. \n",
        "\n",
        "**Required Exercises**\n",
        "\n",
        "| Section | Part                                           | Required Function                     | Points \n",
        "|---------|:-                                             |:-                                     | :-:    \n",
        "| 1       | [Data Exploration](#section1)                  | get_feature_stats    |  20    \n",
        "| 2       | [Data Cleaning](#section2)     | handle_missing_values         |  20    \n",
        "| 2       | [Data Cleaning](#section2)     | handle_inconsistent_data         |  20  \n",
        "| 2       | [Data Cleaning](#section2)     | handle_skewness         |  20  \n",
        "| 3       | [Visualization](#section3) | plot_correlation |  15    \n",
        "| 3       | [Visualization](#section3) | plot_scatter_pairs |  5   \n",
        "|         | Total Points                                   |                                       | 100    \n",
        "\n",
        "**Optional Exercises**\n",
        "\n",
        "| Section | Part                                                 | Required  Function | Points |\n",
        "|:-------:|:-                                                    |:-:                  | :-:    |\n",
        "| 4       | [Modeling](#section4)                   | get_r2_score | 0      |\n",
        "\n"
      ]
    },
    {
      "cell_type": "code",
      "metadata": {
        "id": "nM2v-vW4-k1z"
      },
      "source": [
        "# Scientific and vector computation for python\n",
        "import numpy as np\n",
        "import pandas as pd \n",
        "\n",
        "# Plotting library\n",
        "from matplotlib import pyplot as plt\n",
        "%matplotlib inline"
      ],
      "execution_count": null,
      "outputs": []
    },
    {
      "cell_type": "markdown",
      "metadata": {
        "id": "c66oKMZeUKJH"
      },
      "source": [
        "## **0 Loading data set** \r\n",
        "---\r\n",
        "The data set consist of 116,658 observations and 10 columns.\r\n",
        "\r\n",
        "* Stundet ID: identifies uniquely every student. Note that, no two students have the same ID. \r\n",
        "* Gender\r\n",
        "* School group\r\n",
        "* Effort regulation (effort)\r\n",
        "* Family stress level (stress)\r\n",
        "* Help seeking behavior (feedback)\r\n",
        "* Regularity patters of student throughout the course (regularity)\r\n",
        "* Critical thinking skills (critical)\r\n",
        "* Test duration in minutes (minutes)\r\n",
        "* Exam grade (grade) \r\n",
        "\r\n",
        "\r\n"
      ]
    },
    {
      "cell_type": "code",
      "metadata": {
        "colab": {
          "base_uri": "https://localhost:8080/",
          "height": 204
        },
        "id": "CZP6kdJxPJ5p",
        "outputId": "eb72edfb-88a3-4e1a-85dd-8cb838e14982"
      },
      "source": [
        "df = pd.read_csv(\"./school_performance.csv\")\r\n",
        "df.head()"
      ],
      "execution_count": null,
      "outputs": [
        {
          "output_type": "execute_result",
          "data": {
            "text/html": [
              "<div>\n",
              "<style scoped>\n",
              "    .dataframe tbody tr th:only-of-type {\n",
              "        vertical-align: middle;\n",
              "    }\n",
              "\n",
              "    .dataframe tbody tr th {\n",
              "        vertical-align: top;\n",
              "    }\n",
              "\n",
              "    .dataframe thead th {\n",
              "        text-align: right;\n",
              "    }\n",
              "</style>\n",
              "<table border=\"1\" class=\"dataframe\">\n",
              "  <thead>\n",
              "    <tr style=\"text-align: right;\">\n",
              "      <th></th>\n",
              "      <th>student_id</th>\n",
              "      <th>gender</th>\n",
              "      <th>school_group</th>\n",
              "      <th>effort</th>\n",
              "      <th>stress</th>\n",
              "      <th>feedback</th>\n",
              "      <th>regularity</th>\n",
              "      <th>critical</th>\n",
              "      <th>minutes</th>\n",
              "      <th>grade</th>\n",
              "    </tr>\n",
              "  </thead>\n",
              "  <tbody>\n",
              "    <tr>\n",
              "      <th>0</th>\n",
              "      <td>20404.0</td>\n",
              "      <td>male</td>\n",
              "      <td>99</td>\n",
              "      <td>5.997184</td>\n",
              "      <td>8.098143</td>\n",
              "      <td>9.722538</td>\n",
              "      <td>99.000000</td>\n",
              "      <td>1.621112</td>\n",
              "      <td>20.0</td>\n",
              "      <td>99.00</td>\n",
              "    </tr>\n",
              "    <tr>\n",
              "      <th>1</th>\n",
              "      <td>26683.0</td>\n",
              "      <td>female</td>\n",
              "      <td>99</td>\n",
              "      <td>6.017588</td>\n",
              "      <td>9.696074</td>\n",
              "      <td>99.000000</td>\n",
              "      <td>99.000000</td>\n",
              "      <td>99.000000</td>\n",
              "      <td>30.0</td>\n",
              "      <td>3.61</td>\n",
              "    </tr>\n",
              "    <tr>\n",
              "      <th>2</th>\n",
              "      <td>32954.0</td>\n",
              "      <td>99</td>\n",
              "      <td>99</td>\n",
              "      <td>6.070632</td>\n",
              "      <td>7.803463</td>\n",
              "      <td>9.448975</td>\n",
              "      <td>7.369845</td>\n",
              "      <td>99.000000</td>\n",
              "      <td>99</td>\n",
              "      <td>3.32</td>\n",
              "    </tr>\n",
              "    <tr>\n",
              "      <th>3</th>\n",
              "      <td>42595.0</td>\n",
              "      <td>99</td>\n",
              "      <td>99</td>\n",
              "      <td>5.996371</td>\n",
              "      <td>99.000000</td>\n",
              "      <td>99.000000</td>\n",
              "      <td>5.697580</td>\n",
              "      <td>-0.051113</td>\n",
              "      <td>21.0</td>\n",
              "      <td>99.00</td>\n",
              "    </tr>\n",
              "    <tr>\n",
              "      <th>4</th>\n",
              "      <td>28603.0</td>\n",
              "      <td>male</td>\n",
              "      <td>99</td>\n",
              "      <td>99.000000</td>\n",
              "      <td>6.780604</td>\n",
              "      <td>99.000000</td>\n",
              "      <td>99.000000</td>\n",
              "      <td>99.000000</td>\n",
              "      <td>99</td>\n",
              "      <td>3.18</td>\n",
              "    </tr>\n",
              "  </tbody>\n",
              "</table>\n",
              "</div>"
            ],
            "text/plain": [
              "   student_id  gender school_group  ...   critical  minutes  grade\n",
              "0     20404.0    male           99  ...   1.621112     20.0  99.00\n",
              "1     26683.0  female           99  ...  99.000000     30.0   3.61\n",
              "2     32954.0      99           99  ...  99.000000       99   3.32\n",
              "3     42595.0      99           99  ...  -0.051113     21.0  99.00\n",
              "4     28603.0    male           99  ...  99.000000       99   3.18\n",
              "\n",
              "[5 rows x 10 columns]"
            ]
          },
          "metadata": {
            "tags": []
          },
          "execution_count": 186
        }
      ]
    },
    {
      "cell_type": "markdown",
      "metadata": {
        "id": "vblWzJFWWIux"
      },
      "source": [
        "<a id=\"section1\"></a>\r\n",
        "## **1 Data Exploration** \r\n",
        "---\r\n",
        "\r\n",
        "As mentioned in class, it is good practice to report the percentage of missing values per feature together with the features' descriptive\r\n",
        "stats. In this exercise, we take as input a DataFrame and return some \r\n",
        "descriptive statistics and the percentage of missing values.\r\n",
        "\r\n",
        "For the numerical features, we are interested in knowing:\r\n",
        "- the mean \r\n",
        "- the standard deviation\r\n",
        "- the median\r\n",
        "- and the percentage of missing values\r\n",
        "\r\n",
        "\r\n",
        "In the case of the categorical features, we want to know:\r\n",
        "- the number of unique values\r\n",
        "- the most frequent value\r\n",
        "- the frequency of the most frequent value\r\n",
        "- and the percentage of missing values"
      ]
    },
    {
      "cell_type": "code",
      "metadata": {
        "id": "kqJhQLO2WS7o"
      },
      "source": [
        "#### GRADED CELL ####\r\n",
        "def get_feature_stats(df):\r\n",
        "    \"\"\"\r\n",
        "    Obtains descriptive statistics for all features and percentage of missing \r\n",
        "    values\r\n",
        "    \r\n",
        "    Parameters\r\n",
        "    ----------\r\n",
        "    df : DataFrame\r\n",
        "         Containing all data\r\n",
        "\r\n",
        "    Returns\r\n",
        "    -------\r\n",
        "    stats : DataFrame\r\n",
        "            With four rows only (mean, std, median and percentage of \r\n",
        "            missing values) containing the statistics for all features.\r\n",
        "    \"\"\"\r\n",
        "    # ====================== YOUR CODE HERE ======================= \r\n",
        "\r\n",
        "    # =============================================================\r\n",
        "    return stats"
      ],
      "execution_count": null,
      "outputs": []
    },
    {
      "cell_type": "code",
      "metadata": {
        "id": "hTPtmvbQe74z"
      },
      "source": [
        "get_feature_stats(df)"
      ],
      "execution_count": null,
      "outputs": []
    },
    {
      "cell_type": "markdown",
      "metadata": {
        "id": "Q7_JzCy1-k14"
      },
      "source": [
        "<a id=\"section2\"></a>\n",
        "## **2 Data Cleaning** \n",
        "---\n",
        "\n",
        "Carefully explore the data set and fill-out the following functions:\n",
        "- handle missing values\n",
        "  - Are there missing values? If so, how are the missing values encoded?\n",
        "  - Why are there missing values? Is there a pattern in the values missing?\n",
        "- handle inconsistent data\n",
        "  - Are there columns with inconsistent data types?\n",
        "  - Can you transform all columns to a consistent type? Categorical or numeric\n",
        "- handle skewness\n",
        "  - How are the features distributed?\n",
        "  - What kind of transformations can you "
      ]
    },
    {
      "cell_type": "code",
      "metadata": {
        "id": "5u1VBI7-fFwT"
      },
      "source": [
        "#### GRADED CELL ####\r\n",
        "def handle_missing_values(df):\r\n",
        "  \"\"\"\r\n",
        "  Identifies and removes all missing values\r\n",
        "  \r\n",
        "  Parameters\r\n",
        "  ----------\r\n",
        "  df : DataFrame\r\n",
        "      Containing missing values\r\n",
        "\r\n",
        "  Returns\r\n",
        "  -------\r\n",
        "  df : DataFrame\r\n",
        "      Without missing values\r\n",
        "\r\n",
        "  Hint:\r\n",
        "  -----\r\n",
        "  Understand the pattern in the missing values    \r\n",
        "  \"\"\"\r\n",
        "  # ====================== YOUR CODE HERE ======================= \r\n",
        "\r\n",
        "  # =============================================================\r\n",
        "\r\n",
        "  return df\r\n"
      ],
      "execution_count": null,
      "outputs": []
    },
    {
      "cell_type": "code",
      "metadata": {
        "id": "V7tT2gePD9kp"
      },
      "source": [
        "df = handle_missing_values(df)\r\n",
        "df.head()"
      ],
      "execution_count": null,
      "outputs": []
    },
    {
      "cell_type": "code",
      "metadata": {
        "id": "axniAWlNfMmr"
      },
      "source": [
        "#### GRADED CELL ####\r\n",
        "def handle_inconsistent_data(df):\r\n",
        "   \"\"\"\r\n",
        "  Identifies features with inconsistent data types and transforms features\r\n",
        "  to the correct type\r\n",
        "  \r\n",
        "  Parameters\r\n",
        "  ----------\r\n",
        "  df : DataFrame\r\n",
        "      Containing inconsistent data\r\n",
        "\r\n",
        "  Returns\r\n",
        "  -------\r\n",
        "  df : DataFrame\r\n",
        "       With consistent data. All columns must be either numerical or categorical\r\n",
        "\r\n",
        "  Hint:\r\n",
        "  -----\r\n",
        "  See unique values per feature   \r\n",
        "  \"\"\"\r\n",
        "  # ====================== YOUR CODE HERE ======================= \r\n",
        "\r\n",
        "  # =============================================================\r\n",
        "  return df"
      ],
      "execution_count": null,
      "outputs": []
    },
    {
      "cell_type": "code",
      "metadata": {
        "id": "BH11lf3lEgJH"
      },
      "source": [
        "df = handle_inconsistent_data(df)\r\n",
        "df.head()"
      ],
      "execution_count": null,
      "outputs": []
    },
    {
      "cell_type": "code",
      "metadata": {
        "id": "Xkzsf81OEvFK"
      },
      "source": [
        "df.hist(bins=30, figsize=(15, 10))"
      ],
      "execution_count": null,
      "outputs": []
    },
    {
      "cell_type": "code",
      "metadata": {
        "id": "x0aBkVOtfej-"
      },
      "source": [
        "#### GRADED CELL ####\r\n",
        "def handle_skewness(df):\r\n",
        "  \"\"\"\r\n",
        "  Identifies features skewed distribution and transforms features to make data\r\n",
        "  more Gaussian-like \r\n",
        "  \r\n",
        "  Parameters\r\n",
        "  ----------\r\n",
        "  df : DataFrame\r\n",
        "      Containing skewed features\r\n",
        "\r\n",
        "  Returns\r\n",
        "  -------\r\n",
        "  df : DataFrame\r\n",
        "       With more Gaussian-like features\r\n",
        "\r\n",
        "  Hint:\r\n",
        "  -----\r\n",
        "  Visualize each feature individually   \r\n",
        "  \"\"\"\r\n",
        "  # ====================== YOUR CODE HERE ======================= \r\n",
        "\r\n",
        "  # =============================================================\r\n",
        "  return df"
      ],
      "execution_count": null,
      "outputs": []
    },
    {
      "cell_type": "code",
      "metadata": {
        "id": "z_-wd48PGAP7"
      },
      "source": [
        "df  = handle_skewness(df)"
      ],
      "execution_count": null,
      "outputs": []
    },
    {
      "cell_type": "code",
      "metadata": {
        "id": "Nv3c861SGc70"
      },
      "source": [
        "df.hist(bins=30, figsize=(15, 10))"
      ],
      "execution_count": null,
      "outputs": []
    },
    {
      "cell_type": "markdown",
      "metadata": {
        "id": "TvwYZorE-k1_"
      },
      "source": [
        "<a id=\"section3\"></a>\n",
        "## **3 Visualization** \n",
        "---\n"
      ]
    },
    {
      "cell_type": "code",
      "metadata": {
        "id": "5jCz5LCWGrsD"
      },
      "source": [
        "#### GRADED CELL ####\r\n",
        "import seaborn as sns\r\n",
        "def plot_correlation(df):\r\n",
        "  \"\"\"\r\n",
        "  Builds upper triangular heatmap with pearson correlation between variables\r\n",
        "\r\n",
        "  Instructions\r\n",
        "  ------------\r\n",
        "  The plot must have:\r\n",
        "  - An appropiate title\r\n",
        "  - Only upper triangular elements\r\n",
        "  - Annotated values of correlation coefficients rounded to three significant \r\n",
        "  figures\r\n",
        "  - Negative correlation must be blue and possitive correlation red. \r\n",
        "  \r\n",
        "  Parameters\r\n",
        "  ----------\r\n",
        "  df : DataFrame with data\r\n",
        "\r\n",
        "  Returns\r\n",
        "  -------\r\n",
        "  heatmap : upper triangular showing correlations between features\r\n",
        "  \r\n",
        "  \"\"\"\r\n",
        "  # ====================== YOUR CODE HERE =======================\r\n",
        "\r\n",
        "  # =============================================================\r\n"
      ],
      "execution_count": null,
      "outputs": []
    },
    {
      "cell_type": "code",
      "metadata": {
        "id": "pERN5ZoUHsqL"
      },
      "source": [
        "plot_correlation(df)"
      ],
      "execution_count": null,
      "outputs": []
    },
    {
      "cell_type": "code",
      "metadata": {
        "id": "w5PdLlLRGvKY"
      },
      "source": [
        "#### GRADED CELL ####\r\n",
        "def plot_scatter_pairs(df, group):\r\n",
        "  \"\"\"\r\n",
        "  Plot scatter plots for all possible combinations of numerical features with \r\n",
        "  different colors for the categorical feature group\r\n",
        "  \r\n",
        "  Parameters\r\n",
        "  ----------\r\n",
        "  df : DataFrame with data\r\n",
        "  group: name of categorical feature \r\n",
        "\r\n",
        "  Returns\r\n",
        "  -------\r\n",
        "  plots : Scatter plots of numerical features with different colors depending\r\n",
        "  on categorical feature\r\n",
        "  \"\"\"\r\n",
        "  # ====================== YOUR CODE HERE ======================= \r\n",
        "\r\n",
        "  # ============================================================="
      ],
      "execution_count": null,
      "outputs": []
    },
    {
      "cell_type": "code",
      "metadata": {
        "id": "JeFeMVsVGzQl"
      },
      "source": [
        "sample = df.sample(n= 1000)\r\n",
        "plot_scatter_pairs(sample, 'gender')\r\n"
      ],
      "execution_count": null,
      "outputs": []
    },
    {
      "cell_type": "code",
      "metadata": {
        "id": "oquMRY_Kl2lS"
      },
      "source": [
        "plot_scatter_pairs(sample, 'school_group')\r\n"
      ],
      "execution_count": null,
      "outputs": []
    },
    {
      "cell_type": "markdown",
      "metadata": {
        "id": "ETyDSgf_Gzzt"
      },
      "source": [
        "<a id=\"section4\"></a>\r\n",
        "## **4 Modeling (optional)**\r\n",
        "---\r\n",
        "\r\n",
        "We will cover modelling techniques in the following weeks but if you already have some prior knowledge, what is the highest $R^2$ value you can get?\r\n",
        "\r\n",
        "You can create as many new features and transform the features in any way.\r\n",
        "\r\n",
        "\r\n",
        "\r\n"
      ]
    },
    {
      "cell_type": "code",
      "metadata": {
        "id": "0niWA5gsG3cx"
      },
      "source": [
        "from sklearn.linear_model import LinearRegression\r\n",
        "def get_r2_score(df):\r\n",
        "  \"\"\"\r\n",
        "  Runs a linear regression and returns the coefficient of determination \r\n",
        "  R**2 of the prediction.\r\n",
        "  \r\n",
        "  Parameters\r\n",
        "  ----------\r\n",
        "  df : DataFrame with data\r\n",
        "\r\n",
        "  Returns\r\n",
        "  -------\r\n",
        "  score :  coefficient of determination  R**2 of the prediction\r\n",
        "  \"\"\"\r\n",
        "  # ====================== YOUR CODE HERE ======================= \r\n",
        "\r\n",
        "  # =============================================================\r\n",
        "  return score"
      ],
      "execution_count": null,
      "outputs": []
    },
    {
      "cell_type": "code",
      "metadata": {
        "id": "0VsfZiudRv7K"
      },
      "source": [
        "get_r2_score(df)"
      ],
      "execution_count": null,
      "outputs": []
    }
  ]
}