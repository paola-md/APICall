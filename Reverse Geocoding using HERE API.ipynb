{
 "cells": [
  {
   "cell_type": "markdown",
   "metadata": {},
   "source": [
    "# Reverse Geocoding using HERE API\n",
    "\n",
    "Given a csv with Geographic Coordinates, extracts full address (incluiding postal code)\n",
    "\n",
    "More information: https://developer.here.com/api-explorer/rest/geocoder/reverse-geocode"
   ]
  },
  {
   "cell_type": "code",
   "execution_count": 17,
   "metadata": {},
   "outputs": [],
   "source": [
    "import pandas\n",
    "import numpy\n",
    "import requests\n",
    "import json\n",
    "import time\n",
    "import os\n",
    "from io import StringIO"
   ]
  },
  {
   "cell_type": "code",
   "execution_count": 18,
   "metadata": {},
   "outputs": [],
   "source": [
    "temp = os.path.expanduser('C:\\\\Users\\\\pmeji\\\\Dropbox\\\\CIE\\\\ProyectoENLACE\\\\Mapas\\\\Build\\\\temp')\n",
    "output = os.path.expanduser('C:\\\\Users\\\\pmeji\\\\Dropbox\\\\CIE\\\\ProyectoENLACE\\\\Mapas\\\\Build\\\\output')\n",
    "source =  os.path.expanduser('C:\\\\Users\\\\pmeji\\\\Dropbox\\\\CIE\\\\ProyectoENLACE\\\\Mapas\\\\Build\\\\source')"
   ]
  },
  {
   "cell_type": "code",
   "execution_count": 19,
   "metadata": {},
   "outputs": [],
   "source": [
    "filename = 'cct_lat_lon.csv'\n",
    "addr= os.path.join(source, filename)\n",
    "df = pandas.read_csv(addr, encoding = 'unicode_escape')"
   ]
  },
  {
   "cell_type": "code",
   "execution_count": 20,
   "metadata": {},
   "outputs": [
    {
     "data": {
      "text/html": [
       "<div>\n",
       "<style scoped>\n",
       "    .dataframe tbody tr th:only-of-type {\n",
       "        vertical-align: middle;\n",
       "    }\n",
       "\n",
       "    .dataframe tbody tr th {\n",
       "        vertical-align: top;\n",
       "    }\n",
       "\n",
       "    .dataframe thead th {\n",
       "        text-align: right;\n",
       "    }\n",
       "</style>\n",
       "<table border=\"1\" class=\"dataframe\">\n",
       "  <thead>\n",
       "    <tr style=\"text-align: right;\">\n",
       "      <th></th>\n",
       "      <th>cct</th>\n",
       "      <th>longitud</th>\n",
       "      <th>latitud</th>\n",
       "    </tr>\n",
       "  </thead>\n",
       "  <tbody>\n",
       "    <tr>\n",
       "      <th>0</th>\n",
       "      <td>25KJN0346R</td>\n",
       "      <td>-108.27167</td>\n",
       "      <td>26.779722</td>\n",
       "    </tr>\n",
       "    <tr>\n",
       "      <th>1</th>\n",
       "      <td>25KJN0347Q</td>\n",
       "      <td>-108.08434</td>\n",
       "      <td>26.491606</td>\n",
       "    </tr>\n",
       "    <tr>\n",
       "      <th>2</th>\n",
       "      <td>25KJN0348P</td>\n",
       "      <td>-108.35389</td>\n",
       "      <td>26.574444</td>\n",
       "    </tr>\n",
       "    <tr>\n",
       "      <th>3</th>\n",
       "      <td>25KJN0350D</td>\n",
       "      <td>-108.18266</td>\n",
       "      <td>26.407717</td>\n",
       "    </tr>\n",
       "    <tr>\n",
       "      <th>4</th>\n",
       "      <td>25KJN0351C</td>\n",
       "      <td>-106.78722</td>\n",
       "      <td>24.259167</td>\n",
       "    </tr>\n",
       "  </tbody>\n",
       "</table>\n",
       "</div>"
      ],
      "text/plain": [
       "          cct   longitud    latitud\n",
       "0  25KJN0346R -108.27167  26.779722\n",
       "1  25KJN0347Q -108.08434  26.491606\n",
       "2  25KJN0348P -108.35389  26.574444\n",
       "3  25KJN0350D -108.18266  26.407717\n",
       "4  25KJN0351C -106.78722  24.259167"
      ]
     },
     "execution_count": 20,
     "metadata": {},
     "output_type": "execute_result"
    }
   ],
   "source": [
    "df.head()"
   ]
  },
  {
   "cell_type": "code",
   "execution_count": 21,
   "metadata": {},
   "outputs": [
    {
     "data": {
      "text/plain": [
       "499181"
      ]
     },
     "execution_count": 21,
     "metadata": {},
     "output_type": "execute_result"
    }
   ],
   "source": [
    "len(df)"
   ]
  },
  {
   "cell_type": "markdown",
   "metadata": {},
   "source": [
    "### Data cleaning\n",
    "\n",
    "Deletes empty observations and obersvations with non-existing coordinates"
   ]
  },
  {
   "cell_type": "code",
   "execution_count": 23,
   "metadata": {},
   "outputs": [
    {
     "name": "stdout",
     "output_type": "stream",
     "text": [
      "499181\n",
      "484922\n"
     ]
    },
    {
     "data": {
      "text/plain": [
       "472365"
      ]
     },
     "execution_count": 23,
     "metadata": {},
     "output_type": "execute_result"
    }
   ],
   "source": [
    "df_coor = df\n",
    "print(len(df_coor))\n",
    "df_coor = df_coor.dropna()\n",
    "print(len(df_coor))\n",
    "\n",
    "df_coor = df_coor[pandas.to_numeric(df_coor['longitud'], errors='coerce').notnull()]\n",
    "df_coor = df_coor[pandas.to_numeric(df_coor['latitud'], errors='coerce').notnull()]\n",
    "\n",
    "\n",
    "df_coor = df_coor.loc[(df_coor['latitud']< 90) & (df_coor['latitud']> 0)]\n",
    "df_coor = df_coor.loc[(df_coor['longitud']< 180) & (df_coor['longitud']> -180)]\n",
    "df_coor = df_coor.loc[(df_coor['longitud']!= 0) | (df_coor['latitud']!= 0)]\n",
    "\n",
    "\n",
    "df_coor = df_coor.reset_index(drop=True)\n",
    "len(df_coor)"
   ]
  },
  {
   "cell_type": "markdown",
   "metadata": {},
   "source": [
    "### Functions for reverse geocoding"
   ]
  },
  {
   "cell_type": "code",
   "execution_count": null,
   "metadata": {},
   "outputs": [],
   "source": [
    "def flatten_json(y):\n",
    "    out = {}\n",
    "    def flatten(x, name=''):\n",
    "        if type(x) is dict:\n",
    "            for a in x:\n",
    "                flatten(x[a], name + a + '_')\n",
    "        elif type(x) is list:\n",
    "            i = 0\n",
    "            for a in x:\n",
    "                flatten(a, name + str(i) + '_')\n",
    "                i += 1\n",
    "        else:\n",
    "            out[name[:-1]] = x\n",
    "    flatten(y)\n",
    "    return out\n",
    "\n",
    "\n",
    "#Given a range, extracts the address from that range and \n",
    "def reverseGeo(df_coor, mini, maxi, name):\n",
    "    resDF = pandas.DataFrame()\n",
    "    url_base    = 'https://reverse.geocoder.api.here.com/6.2/reversegeocode.json?prox=';\n",
    "    extra = '&mode=retrieveAddresses&maxresults=1&gen=9&app_id=4PvhgylLABytx6S2AeoS&app_code=BVuMZxkU2w3K8DhtUUilFg' #This key no longer works. Go online and register to get a new one\n",
    "\n",
    "    for i in range(mini,maxi):\n",
    "\n",
    "        lon = df_coor['longitud'][i]\n",
    "        lat = df_coor['latitud'][i]\n",
    "\n",
    "        if (-90 < lat < 90 ) & (-180 < lon < 180):\n",
    "            prox ='' + str(lat) + '%2C' + str(lon) + '%2C250'\n",
    "            url = url_base + prox + extra #Builds url to make request\n",
    "            \n",
    "            try:\n",
    "                f = requests.get(url) \n",
    "                if (f.status_code == 200):\n",
    "                    json_f  = json.loads(f.text)\n",
    "                    if (len(json_f[\"Response\"]['View'])!=0):\n",
    "                        info_cct = json_f[\"Response\"][\"View\"][0]['Result'][0]['Location']['Address']\n",
    "                        flat_json  = flatten_json(info_cct)\n",
    "\n",
    "                        apiDF      = pandas.DataFrame.from_dict(flat_json, orient='index')\n",
    "                        apiDF      = apiDF.transpose()\n",
    "                        apiDF['cct'] = df_coor['cct'][i]\n",
    "                        print(df_coor['cct'][i],i)\n",
    "                        resDF = resDF.append(apiDF, ignore_index = True)\n",
    "            except requests.exceptions.RequestException as e:  # Handles exceptions\n",
    "                print(e) \n",
    "        time.sleep(numpy.random.uniform())\n",
    "\n",
    "    resDF.to_csv(file_out,encoding='utf-8-sig')\n",
    "    return resDF"
   ]
  },
  {
   "cell_type": "code",
   "execution_count": null,
   "metadata": {},
   "outputs": [],
   "source": [
    "size = len(df_coor)\n",
    "step= 100000\n",
    "df_final = pandas.DataFrame()\n",
    "\n",
    "for i in range(0,size, step):\n",
    "    mini = i\n",
    "    maxi = i + step\n",
    "    filename = '' + 'cct_dir_'+ str(mini) + '_' + str(maxi) + '.csv'\n",
    "    file_out = os.path.join(temp, filename)\n",
    "    df_1 = reverseGeo(df_coor, mini, maxi, file_out)\n",
    "    df_final.append(df_1,  ignore_index = True)\n",
    "\n",
    "name = os.path.join(temp, \"cct_dir_0_\"+size)    \n",
    "df_final.to_csv(name,encoding='utf-8-sig')  "
   ]
  }
 ],
 "metadata": {
  "kernelspec": {
   "display_name": "Python 3",
   "language": "python",
   "name": "python3"
  },
  "language_info": {
   "codemirror_mode": {
    "name": "ipython",
    "version": 3
   },
   "file_extension": ".py",
   "mimetype": "text/x-python",
   "name": "python",
   "nbconvert_exporter": "python",
   "pygments_lexer": "ipython3",
   "version": "3.5.6"
  }
 },
 "nbformat": 4,
 "nbformat_minor": 2
}
